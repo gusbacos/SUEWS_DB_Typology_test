{
 "cells": [
  {
   "cell_type": "code",
   "execution_count": 1,
   "metadata": {},
   "outputs": [
    {
     "ename": "ModuleNotFoundError",
     "evalue": "No module named 'Utilities'",
     "output_type": "error",
     "traceback": [
      "\u001b[1;31m---------------------------------------------------------------------------\u001b[0m",
      "\u001b[1;31mModuleNotFoundError\u001b[0m                       Traceback (most recent call last)",
      "Cell \u001b[1;32mIn[1], line 7\u001b[0m\n\u001b[0;32m      3\u001b[0m \u001b[38;5;28;01mimport\u001b[39;00m \u001b[38;5;21;01mmatplotlib\u001b[39;00m\u001b[38;5;21;01m.\u001b[39;00m\u001b[38;5;21;01mpyplot\u001b[39;00m \u001b[38;5;28;01mas\u001b[39;00m \u001b[38;5;21;01mplt\u001b[39;00m\n\u001b[0;32m      4\u001b[0m \u001b[38;5;28;01mimport\u001b[39;00m \u001b[38;5;21;01mnumpy\u001b[39;00m \u001b[38;5;28;01mas\u001b[39;00m \u001b[38;5;21;01mnp\u001b[39;00m\n\u001b[1;32m----> 7\u001b[0m \u001b[38;5;28;01mfrom\u001b[39;00m \u001b[38;5;21;01mUtilities\u001b[39;00m\u001b[38;5;21;01m.\u001b[39;00m\u001b[38;5;21;01mdb_functions\u001b[39;00m \u001b[38;5;28;01mimport\u001b[39;00m (read_DB,)\n\u001b[0;32m      9\u001b[0m dataframes \u001b[38;5;241m=\u001b[39m db_dict\u001b[38;5;241m.\u001b[39mcopy()\n\u001b[0;32m     11\u001b[0m \u001b[38;5;66;03m# Funktion för att minska antalet siffror i db-code\u001b[39;00m\n",
      "\u001b[1;31mModuleNotFoundError\u001b[0m: No module named 'Utilities'"
     ]
    }
   ],
   "source": [
    "\n",
    "dataframes = db_dict.copy()\n",
    "\n",
    "# Funktion för att minska antalet siffror i db-code\n",
    "\n",
    "def remove_third_and_fourth_digits(df, suffixes):\n",
    "    df = df.reset_index()  # Återställ indexet till en kolumn\n",
    "    df.replace('', np.nan, inplace=True)  # Fyll tomma celler med NaN\n",
    "    for col in df.columns:\n",
    "        if any(col.endswith(suffix) for suffix in suffixes):\n",
    "            df[col] = df[col].apply(lambda x: float(str(x)[:2] + str(x)[4:]) if pd.notnull(x) and str(x).replace('.', '', 1).isdigit() and len(str(x)) == 10 else x)\n",
    "    df = df.set_index(df.columns[0])  # Sätt tillbaka den första kolumnen som index\n",
    "    return df\n",
    "\n",
    "# Lista över suffix som ska kontrolleras\n",
    "suffixes_to_check = ['ID','Paved','Buildings','Bare Soil','Grass','Evergreen Tree','Deciduous Tree','Water','Biogen','Conductance',\n",
    "                     'Albedo','Emissivity','Water Storage','Leaf Area Index','Water State','Leaf Growth Power','Drainage',\n",
    "                     'Max Vegetation Conductance','Porosity','OHMSummerWet','OHMSummerDry','OHMWinterWet','OHMWinterDry','ANOHM','ESTM',\n",
    "                     'Spartacus Surface', 'Material','Ref'\n",
    "\n",
    "                    ]\n",
    "\n",
    "# Iterera genom varje dataframe och minska antalet siffror i de angivna kolumnerna\n",
    "for sheet_name, df in dataframes.items():\n",
    "    try:\n",
    "        dataframes[sheet_name] = remove_third_and_fourth_digits(df, suffixes_to_check)\n",
    "        \n",
    "    except:\n",
    "        print(sheet_name)\n",
    "        \n",
    "# Funktion för att kontrollera dubbletter i index\n",
    "def check_duplicate_indices(dataframes):\n",
    "    duplicates = {}\n",
    "    for sheet_name, df in dataframes.items():\n",
    "        duplicate_indices = df.index[df.index.duplicated()].unique()\n",
    "        if len(duplicate_indices) > 0:\n",
    "            duplicates[sheet_name] = duplicate_indices\n",
    "    return duplicates\n",
    "\n",
    "# Kontrollera dubbletter i index för varje dataframe\n",
    "duplicates = check_duplicate_indices(dataframes)\n",
    "\n",
    "# Visa resultatet\n",
    "if duplicates:\n",
    "    for sheet_name, duplicate_indices in duplicates.items():\n",
    "        print(f\"Sheet: {sheet_name} har dubbletter i index: {duplicate_indices}\")\n",
    "else:\n",
    "    print(\"Inga dubbletter hittades i index.\")\n",
    "\n",
    "save_to_db('C:/temp/newdb.xlsx', dataframes)\n",
    "\n",
    "\n",
    "dataframes['Types']"
   ]
  },
  {
   "cell_type": "code",
   "execution_count": 2,
   "metadata": {},
   "outputs": [
    {
     "ename": "ImportError",
     "evalue": "attempted relative import with no known parent package",
     "output_type": "error",
     "traceback": [
      "\u001b[1;31m---------------------------------------------------------------------------\u001b[0m",
      "\u001b[1;31mImportError\u001b[0m                               Traceback (most recent call last)",
      "Cell \u001b[1;32mIn[2], line 7\u001b[0m\n\u001b[0;32m      3\u001b[0m \u001b[38;5;28;01mimport\u001b[39;00m \u001b[38;5;21;01mmatplotlib\u001b[39;00m\u001b[38;5;21;01m.\u001b[39;00m\u001b[38;5;21;01mpyplot\u001b[39;00m \u001b[38;5;28;01mas\u001b[39;00m \u001b[38;5;21;01mplt\u001b[39;00m\n\u001b[0;32m      4\u001b[0m \u001b[38;5;28;01mimport\u001b[39;00m \u001b[38;5;21;01mnumpy\u001b[39;00m \u001b[38;5;28;01mas\u001b[39;00m \u001b[38;5;21;01mnp\u001b[39;00m\n\u001b[1;32m----> 7\u001b[0m \u001b[38;5;28;01mfrom\u001b[39;00m \u001b[38;5;21;01m.\u001b[39;00m\u001b[38;5;21;01mdb_functions\u001b[39;00m \u001b[38;5;28;01mimport\u001b[39;00m (read_DB,)\n",
      "\u001b[1;31mImportError\u001b[0m: attempted relative import with no known parent package"
     ]
    }
   ],
   "source": [
    "\n"
   ]
  },
  {
   "cell_type": "code",
   "execution_count": null,
   "metadata": {},
   "outputs": [],
   "source": []
  }
 ],
 "metadata": {
  "kernelspec": {
   "display_name": "Python 3",
   "language": "python",
   "name": "python3"
  },
  "language_info": {
   "codemirror_mode": {
    "name": "ipython",
    "version": 3
   },
   "file_extension": ".py",
   "mimetype": "text/x-python",
   "name": "python",
   "nbconvert_exporter": "python",
   "pygments_lexer": "ipython3",
   "version": "3.12.6"
  }
 },
 "nbformat": 4,
 "nbformat_minor": 2
}
