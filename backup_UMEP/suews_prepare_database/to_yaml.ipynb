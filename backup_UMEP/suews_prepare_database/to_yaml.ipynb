{
 "cells": [
  {
   "cell_type": "code",
   "execution_count": 1,
   "metadata": {},
   "outputs": [],
   "source": [
    "import pandas as pd\n",
    "\n",
    "from Utilities.to_yaml import config\n",
    "yaml_dict = config"
   ]
  },
  {
   "cell_type": "code",
   "execution_count": 2,
   "metadata": {},
   "outputs": [
    {
     "data": {
      "text/plain": [
       "dict_keys(['paved', 'bldgs', 'dectr', 'evetr', 'grass', 'bsoil', 'water'])"
      ]
     },
     "execution_count": 2,
     "metadata": {},
     "output_type": "execute_result"
    }
   ],
   "source": [
    "yaml_dict['site']['land_cover'].keys()"
   ]
  },
  {
   "cell_type": "code",
   "execution_count": null,
   "metadata": {},
   "outputs": [],
   "source": []
  },
  {
   "cell_type": "code",
   "execution_count": null,
   "metadata": {},
   "outputs": [],
   "source": []
  },
  {
   "cell_type": "code",
   "execution_count": 3,
   "metadata": {},
   "outputs": [],
   "source": [
    "# Model\n",
    "yaml_dict['model'] # <- Runcontrol\n",
    "\n",
    "# Site\n",
    "yaml_dict['site']['gridiv'] # GridID\n",
    "yaml_dict['site']['properties'] # ['lat', 'lng', 'alt', 'timezone', 'surfacearea', 'z', 'z0m_in', 'zdm_in', 'pipecapacity', 'runofftowater', 'narp_trans_site', 'lumps', 'spartacus', 'stebbs', 'building_archetype', 'conductance']\n",
    "yaml_dict['site']['irrigation'] # irrigation\n",
    "yaml_dict['site']['anthropogenic_emissions'] # AnEm with all profiles\n",
    "yaml_dict['site']['co2'] # co2\n",
    "yaml_dict['site']['snow'] # snow\n",
    "yaml_dict['site']['land_cover'] # <- ['paved', 'bldgs', 'evetr', 'grass', 'bsoil', 'water']\n",
    "\n",
    "# vertical_layers\n",
    "yaml_dict['vertical_layers'] # all Spartacus. Needs to be flexible and thought of\n",
    "\n",
    "# initial_states\n",
    "yaml_dict['initial_states'] # same as initial states\n",
    "\n",
    "a = 1"
   ]
  },
  {
   "cell_type": "code",
   "execution_count": 5,
   "metadata": {},
   "outputs": [
    {
     "data": {
      "text/plain": [
       "{'h_maintain': 0.5,\n",
       " 'faut': 0.0,\n",
       " 'ie_start': 0.0,\n",
       " 'ie_end': 0.0,\n",
       " 'internalwateruse_h': 0.0,\n",
       " 'daywatper': {'monday': 0.0,\n",
       "  'tuesday': 0.0,\n",
       "  'wednesday': 0.0,\n",
       "  'thursday': 0.0,\n",
       "  'friday': 0.0,\n",
       "  'saturday': 0.0,\n",
       "  'sunday': 0.0},\n",
       " 'daywat': {'monday': 0.0,\n",
       "  'tuesday': 0.0,\n",
       "  'wednesday': 0.0,\n",
       "  'thursday': 0.0,\n",
       "  'friday': 0.0,\n",
       "  'saturday': 0.0,\n",
       "  'sunday': 0.0},\n",
       " 'wuprofa_24hr': {'working_day': {'1': 0.041666666666666664,\n",
       "   '2': 0.041666666666666664,\n",
       "   '3': 0.041666666666666664,\n",
       "   '4': 0.041666666666666664,\n",
       "   '5': 0.041666666666666664,\n",
       "   '6': 0.041666666666666664,\n",
       "   '7': 0.041666666666666664,\n",
       "   '8': 0.041666666666666664,\n",
       "   '9': 0.041666666666666664,\n",
       "   '10': 0.041666666666666664,\n",
       "   '11': 0.041666666666666664,\n",
       "   '12': 0.041666666666666664,\n",
       "   '13': 0.041666666666666664,\n",
       "   '14': 0.041666666666666664,\n",
       "   '15': 0.041666666666666664,\n",
       "   '16': 0.041666666666666664,\n",
       "   '17': 0.041666666666666664,\n",
       "   '18': 0.041666666666666664,\n",
       "   '19': 0.041666666666666664,\n",
       "   '20': 0.041666666666666664,\n",
       "   '21': 0.041666666666666664,\n",
       "   '22': 0.041666666666666664,\n",
       "   '23': 0.041666666666666664,\n",
       "   '24': 0.041666666666666664},\n",
       "  'holiday': {'1': 0.041666666666666664,\n",
       "   '2': 0.041666666666666664,\n",
       "   '3': 0.041666666666666664,\n",
       "   '4': 0.041666666666666664,\n",
       "   '5': 0.041666666666666664,\n",
       "   '6': 0.041666666666666664,\n",
       "   '7': 0.041666666666666664,\n",
       "   '8': 0.041666666666666664,\n",
       "   '9': 0.041666666666666664,\n",
       "   '10': 0.041666666666666664,\n",
       "   '11': 0.041666666666666664,\n",
       "   '12': 0.041666666666666664,\n",
       "   '13': 0.041666666666666664,\n",
       "   '14': 0.041666666666666664,\n",
       "   '15': 0.041666666666666664,\n",
       "   '16': 0.041666666666666664,\n",
       "   '17': 0.041666666666666664,\n",
       "   '18': 0.041666666666666664,\n",
       "   '19': 0.041666666666666664,\n",
       "   '20': 0.041666666666666664,\n",
       "   '21': 0.041666666666666664,\n",
       "   '22': 0.041666666666666664,\n",
       "   '23': 0.041666666666666664,\n",
       "   '24': 0.041666666666666664}},\n",
       " 'wuprofm_24hr': {'working_day': {'1': 0.041666666666666664,\n",
       "   '2': 0.041666666666666664,\n",
       "   '3': 0.041666666666666664,\n",
       "   '4': 0.041666666666666664,\n",
       "   '5': 0.041666666666666664,\n",
       "   '6': 0.041666666666666664,\n",
       "   '7': 0.041666666666666664,\n",
       "   '8': 0.041666666666666664,\n",
       "   '9': 0.041666666666666664,\n",
       "   '10': 0.041666666666666664,\n",
       "   '11': 0.041666666666666664,\n",
       "   '12': 0.041666666666666664,\n",
       "   '13': 0.041666666666666664,\n",
       "   '14': 0.041666666666666664,\n",
       "   '15': 0.041666666666666664,\n",
       "   '16': 0.041666666666666664,\n",
       "   '17': 0.041666666666666664,\n",
       "   '18': 0.041666666666666664,\n",
       "   '19': 0.041666666666666664,\n",
       "   '20': 0.041666666666666664,\n",
       "   '21': 0.041666666666666664,\n",
       "   '22': 0.041666666666666664,\n",
       "   '23': 0.041666666666666664,\n",
       "   '24': 0.041666666666666664},\n",
       "  'holiday': {'1': 0.041666666666666664,\n",
       "   '2': 0.041666666666666664,\n",
       "   '3': 0.041666666666666664,\n",
       "   '4': 0.041666666666666664,\n",
       "   '5': 0.041666666666666664,\n",
       "   '6': 0.041666666666666664,\n",
       "   '7': 0.041666666666666664,\n",
       "   '8': 0.041666666666666664,\n",
       "   '9': 0.041666666666666664,\n",
       "   '10': 0.041666666666666664,\n",
       "   '11': 0.041666666666666664,\n",
       "   '12': 0.041666666666666664,\n",
       "   '13': 0.041666666666666664,\n",
       "   '14': 0.041666666666666664,\n",
       "   '15': 0.041666666666666664,\n",
       "   '16': 0.041666666666666664,\n",
       "   '17': 0.041666666666666664,\n",
       "   '18': 0.041666666666666664,\n",
       "   '19': 0.041666666666666664,\n",
       "   '20': 0.041666666666666664,\n",
       "   '21': 0.041666666666666664,\n",
       "   '22': 0.041666666666666664,\n",
       "   '23': 0.041666666666666664,\n",
       "   '24': 0.041666666666666664}}}"
      ]
     },
     "execution_count": 5,
     "metadata": {},
     "output_type": "execute_result"
    }
   ],
   "source": [
    "yaml_dict['site']['irrigation']"
   ]
  },
  {
   "cell_type": "code",
   "execution_count": null,
   "metadata": {},
   "outputs": [],
   "source": []
  }
 ],
 "metadata": {
  "kernelspec": {
   "display_name": "Python 3",
   "language": "python",
   "name": "python3"
  },
  "language_info": {
   "codemirror_mode": {
    "name": "ipython",
    "version": 3
   },
   "file_extension": ".py",
   "mimetype": "text/x-python",
   "name": "python",
   "nbconvert_exporter": "python",
   "pygments_lexer": "ipython3",
   "version": "3.12.6"
  }
 },
 "nbformat": 4,
 "nbformat_minor": 2
}
